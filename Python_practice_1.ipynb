{
 "cells": [
  {
   "cell_type": "markdown",
   "id": "ecf9a88e",
   "metadata": {},
   "source": [
    "# python basics practice notebook 1\n"
   ]
  },
  {
   "cell_type": "markdown",
   "id": "5f281055",
   "metadata": {},
   "source": [
    "# Practice content order\n",
    "\n",
    "  - Basic \n",
    "     - 1 - Python program to print \"Hello Python\"\n",
    "     - 2 - Python program to do arithmetical operations\n",
    "     - 3 - Python program to find the area of a triangle\n",
    "     - 4 - Python program to solve quadratic equation\n",
    "     - 5 - Python program to swap two variables\n",
    "     - 6 - Python program to generate a random number\n",
    "     - 7 - Python program to convert kilometers to miles\n",
    "     - 8 - Python program to convert Celsius to Fahrenheit\n",
    "     - 9 - Python program to display calendar\n",
    "     - 10 - Python Program to Check if a Number is Positive, Negative or Zero\n",
    "     - 11 - Python Program to Check if a Number is Odd or Even\n",
    "     - 12 - Python Program to Check Leap Year\n",
    "     - 13 - Python Program to Check Prime Number\n",
    "     - 14 - Python Program to Print all Prime Numbers in an Interval\n",
    "     - 15 - Python Program to Find the Factorial of a Number\n",
    "     - 16 - Python Program to Display the multiplication Table\n",
    "     - 17 - Python Program to Print the Fibonacci sequence\n",
    "     - 18 - Python Program to Check Armstrong Number\n",
    "     - 19 - Python Program to Find Armstrong Number in an Interval\n",
    "     - 20 - Python Program to Find the Sum of Natural Numbers\n",
    "  \n",
    "  - Function\n",
    "     - 21 - Python Program to Find LCM\n",
    "     - 22 - Python Program to Find HCF\n",
    "     - 23 - Python Program to Convert Decimal to Binary, Octal and Hexadecimal\n",
    "     - 24 - Python Program To Find ASCII value of a character\n",
    "     - 25 - Python Program to Make a Simple Calculator\n",
    "     - 26 - Python Program to Display Calendar\n",
    "     - 27 - Python Program to Display Fibonacci Sequence Using Recursion\n",
    "     - 28 - Python Program to Find Factorial of Number Using Recursion\n",
    "  \n",
    "  - Number programs\n",
    "     - 29 - Python program to check if the given number is a Disarium Number\n",
    "     - 30 - Python program to print all disarium numbers between 1 to 100\n",
    "     - 31 - Python program to check if the given number is Happy Number\n",
    "     - 32 - Python program to print all happy numbers between 1 and 100\n",
    "     - 33 - Python program to determine whether the given number is a Harshad Number\n",
    "     - 34 - Python program to print all pronic numbers between 1 and 100\n",
    "\n",
    "  - Array Programs\n",
    "     - 35 - Python program to copy all elements of one array into another array\n",
    "     - 36 - Python program to find the frequency of each element in the array\n",
    "     - 37 - Python program to left rotate the elements of an array\n",
    "     - 38 - Python program to print the duplicate elements of an array\n",
    "     - 39 - Python program to print the elements of an array\n",
    "     - 40 - Python program to print the elements of an array in reverse order\n",
    "     - 41 - Python program to print the elements of an array present on even position\n",
    "     - 42 - Python program to print the elements of an array present on odd position\n",
    "     - 43 - Python program to print the largest element in an array\n",
    "     - 44 - Python program to print the smallest element in an array\n",
    "     - 45 - Python program to print the number of elements present in an array\n",
    "     - 46 - Python program to print the sum of all elements in an array\n",
    "     - 47 - Python program to right rotate the elements of an array\n",
    "     - 48 - Python program to sort the elements of an array in ascending order\n",
    "     - 49 - Python program to sort the elements of an array in descending order\n",
    "\n",
    "  - Matrix Programs\n",
    "     - 50 - Python Program to Add Two Matrices\n",
    "     - 51 - Python Program to Multiply Two Matrices\n",
    "     - 52 - Python Program to Transpose a Matrix\n",
    "  \n",
    "  - String Programs\n",
    "     - 53 - Python Program to Sort Words in Alphabetic Order\n",
    "     - 54 - Python Program to Remove Punctuation From a String\n",
    "     - 55 - Python Program to reverse a string\n",
    "     - 56 - Python Program to convert list to string\n",
    "     - 57 - Python Program to convert int to string\n",
    "     - 58 - Python Program to concatenate two strings\n",
    "     - 59 - Python Program to generate a Random String\n",
    "     - 60 - Python Program to convert Bytes to string\n",
    "  \n",
    "  - List Programs\n",
    "     - 61 - Python Program to append element in the list\n",
    "     - 62 - Python Program to compare two lists\n",
    "     - 63 - Python Program to convert list to dictionary\n",
    "     - 64 - Python Program to remove an element from a list\n",
    "     - 65 - Python Program to add two lists\n",
    "     - 66 - Python Program to convert List to Set\n",
    "     - 67 - Python Program to convert list to string\n",
    "\n",
    "  - Dictionary Programs\n",
    "     - 68 - Python Program to create a dictionary\n",
    "     - 69 - Python Program to convert list to dictionary\n",
    "     - 70 - Python Program to sort a dictionary\n",
    "     - 71 - Python Program to Merge two Dictionaries\n",
    "  \n",
    "  - Python Searching and Sorting Programs\n",
    "     - 72 - Binary Search in Python\n",
    "     - 73 - Linear Search in Python\n",
    "     - 74 - Bubble Sort in Python\n",
    "     - 75 - Insertion Sort in Python\n",
    "     - 76 - Heap Sort in Python\n",
    "     - 77 - Merge Sort in Python\n",
    "\n",
    "  - Circular Linked List Programs\n",
    "     - 78 - Python program to create a Circular Linked List of N nodes and count the number of nodes\n",
    "     - 79 - Python program to create a Circular Linked List of n nodes and display it in reverse order\n",
    "     - 80 - Python program to create and display a Circular Linked List\n",
    "     - 81 - Python program to delete a node from the beginning of the Circular Linked List\n",
    "     - 82 - Python program to delete a node from the end of the Circular Linked List\n",
    "     - 83 - Python program to delete a node from the middle of the Circular Linked List\n",
    "     - 84 - Python program to find the maximum and minimum value node from a circular linked list\n",
    "     - 85 - Python program to insert a new node at the beginning of the Circular Linked List\n",
    "     - 86 - Python program to insert a new node at the end of the Circular Linked List\n",
    "     - 87 - Python program to insert a new node at the middle of the Circular Linked List\n",
    "     - 88 - Python program to remove duplicate elements from a Circular Linked List\n",
    "     - 89 - Python program to search an element in a Circular Linked List\n",
    "     - 90 - Python program to sort the elements of the Circular Linked List\n",
    "\n",
    "  - Doubly Linked List Programs\n",
    "     - 91 - Python program to convert a given binary tree to doubly linked list\n",
    "     - 92 - Python program to create a doubly linked list from a ternary tree\n",
    "     - 93 - Python program to create a doubly linked list of n nodes and count the number of nodes\n",
    "     - 94 - Python program to create a doubly linked list of n nodes and display it in reverse order\n",
    "     - 95 - Python program to create and display a doubly linked list\n",
    "     - 96 - Python program to delete a new node from the beginning of the doubly linked list\n",
    "     - 97 - Python program to delete a new node from the end of the doubly linked list\n",
    "     - 98 - Python program to delete a new node from the middle of the doubly linked list\n",
    "     - 99 - Python program to find the maximum and minimum value node from a doubly linked list\n",
    "     - 100 - Python program to insert a new node at the beginning of the Doubly Linked list\n",
    "     - 101 - Python program to insert a new node at the end of the Doubly Linked List\n",
    "     - 102 - Python program to insert a new node at the middle of the Doubly Linked List\n",
    "     - 103 - Python program to remove duplicate elements from a Doubly Linked List\n",
    "     - 104 - Python program to rotate doubly linked list by N nodes\n",
    "     - 105 - Python program to search an element in a doubly linked list"
   ]
  },
  {
   "cell_type": "code",
   "execution_count": 1,
   "id": "f4eb61eb",
   "metadata": {},
   "outputs": [
    {
     "name": "stdout",
     "output_type": "stream",
     "text": [
      "Hello World\n"
     ]
    }
   ],
   "source": [
    "#python program from hello world\n",
    "\n",
    "print('Hello World')"
   ]
  },
  {
   "cell_type": "code",
   "execution_count": 3,
   "id": "6726bd52",
   "metadata": {},
   "outputs": [
    {
     "name": "stdout",
     "output_type": "stream",
     "text": [
      "Enter your first number: 20\n",
      "Enter your second number: 10\n",
      "Results:\n",
      "Addition of 20.0 and 10.0 is : 30.0\n",
      "Subtraction of 20.0 and 10.0 is : 10.0\n",
      "Division of 20.0 and 10.0 is : 2.0\n",
      "Multiplication of 20.0 and 10.0 is : 200.0\n"
     ]
    }
   ],
   "source": [
    "#python program to do arithmetic operations\n",
    "\n",
    "x = input('Enter your first number: ')\n",
    "y = input('Enter your second number: ')\n",
    " \n",
    "x = float(x)\n",
    "y = float(y)\n",
    "    \n",
    "#addition\n",
    "sum1 =  x + y\n",
    "\n",
    "#subtraction\n",
    "sub = x - y\n",
    "\n",
    "#division\n",
    "div = x / y\n",
    "\n",
    "#multiplication\n",
    "\n",
    "mul = x * y\n",
    "\n",
    "\n",
    "print('Results:')\n",
    "\n",
    "print('Addition of {0} and {1} is: {2}'.format(x,y,sum1))\n",
    "print('Subtraction of {0} and {1} is: {2}'.format(x,y,sub))\n",
    "print('Division of {0} and {1} is: {2}'.format(x,y,div))\n",
    "print('Multiplication of {0} and {1} is: {2}'.format(x,y,mul))"
   ]
  },
  {
   "cell_type": "code",
   "execution_count": 4,
   "id": "17cf9a45",
   "metadata": {},
   "outputs": [
    {
     "name": "stdout",
     "output_type": "stream",
     "text": [
      "Enter the base length of triangle : 3\n",
      "Enter the height of triangle : 5\n",
      "Result: \n",
      "Area of traingle for given parameters is : 7.5\n"
     ]
    }
   ],
   "source": [
    "#python program for area of triangle\n",
    "\n",
    "b = float(input('Enter the base length of triangle: '))\n",
    "h = float(input('Enter the height of triangle: '))\n",
    "\n",
    "area = 0.5 * b * h\n",
    "\n",
    "print('Result: ')\n",
    "print('Area of traingle for given parameters is: {0}'.format(area))\n"
   ]
  },
  {
   "cell_type": "code",
   "execution_count": 5,
   "id": "f785cf92",
   "metadata": {},
   "outputs": [
    {
     "name": "stdout",
     "output_type": "stream",
     "text": [
      "Enter a: 8\n",
      "Enter b: 5\n",
      "Enter c: 9\n",
      "solutions are (-0.3125-1.0135796712641785j) and (-0.3125+1.0135796712641785j)\n"
     ]
    }
   ],
   "source": [
    "#python program to solve quadratic equation\n",
    "\n",
    "import cmath\n",
    "\n",
    "a = float(input('Enter a: '))\n",
    "b = float(input('Enter b: '))\n",
    "c = float(input('Enter c: '))\n",
    "\n",
    "d = (b**2)-(4*a*c)\n",
    "\n",
    "x1 = (-b-cmath.sqrt(d))/(2*a)\n",
    "x2 = (-b+cmath.sqrt(d))/(2*a)\n",
    "\n",
    "print('solutions are {0} and {1}'.format(x1,x2))"
   ]
  },
  {
   "cell_type": "code",
   "execution_count": 7,
   "id": "ea8a6da2",
   "metadata": {},
   "outputs": [
    {
     "name": "stdout",
     "output_type": "stream",
     "text": [
      "Enter a variable: random value a\n",
      "Enter another variable: random value b\n",
      "value of a after swaping: random value b\n",
      "value of b after swaping: random value a\n"
     ]
    }
   ],
   "source": [
    "#python program to swap variables\n",
    "\n",
    "a = input(\"Enter a variable: \")\n",
    "b = input(\"Enter another variable: \")\n",
    "c = a \n",
    "a = b\n",
    "b = c\n",
    "print(\"value of a after swaping: {0}\".format(a))\n",
    "print(\"value of b after swaping: {0}\".format(b))"
   ]
  },
  {
   "cell_type": "code",
   "execution_count": 8,
   "id": "6e622f13",
   "metadata": {},
   "outputs": [
    {
     "name": "stdout",
     "output_type": "stream",
     "text": [
      "0.1780923408021412\n"
     ]
    }
   ],
   "source": [
    "#python program to generate random number\n",
    "import random\n",
    "n = random.random()\n",
    "print(n)"
   ]
  },
  {
   "cell_type": "code",
   "execution_count": 9,
   "id": "f71b4954",
   "metadata": {},
   "outputs": [
    {
     "name": "stdout",
     "output_type": "stream",
     "text": [
      "Enter distance in kilometers: 24\n",
      "distance in kilometer: 14.912908613696015\n"
     ]
    }
   ],
   "source": [
    "#python program to convert kilometers to miles\n",
    "\n",
    "km = float(input(\"Enter distance in kilometers: \"))\n",
    "miles = km / 1.609344\n",
    "print(\"distance in kilometer: {0}\".format(miles))"
   ]
  },
  {
   "cell_type": "code",
   "execution_count": 13,
   "id": "943a829b",
   "metadata": {},
   "outputs": [
    {
     "name": "stdout",
     "output_type": "stream",
     "text": [
      "Enter temperature in celsius: 35\n",
      "Temperature in fahrenheit is: 95.0\n"
     ]
    }
   ],
   "source": [
    "#python program to convert celsius to fahrenheit\n",
    "\n",
    "tc = float(input(\"Enter temperature in celsius: \"))\n",
    "tf = (tc*1.8)+32\n",
    "           \n",
    "print(\"Temperature in fahrenheit is: {0}\".format(tf))"
   ]
  },
  {
   "cell_type": "code",
   "execution_count": 18,
   "id": "0525acbd",
   "metadata": {},
   "outputs": [
    {
     "name": "stdout",
     "output_type": "stream",
     "text": [
      "Enter year: 1998\n",
      "Enter month: 05\n",
      "      May 1998\n",
      "Mo Tu We Th Fr Sa Su\n",
      "             1  2  3\n",
      " 4  5  6  7  8  9 10\n",
      "11 12 13 14 15 16 17\n",
      "18 19 20 21 22 23 24\n",
      "25 26 27 28 29 30 31\n",
      "\n"
     ]
    }
   ],
   "source": [
    "#python program to print calendar\n",
    "\n",
    "import calendar\n",
    "\n",
    "yy = int(input('Enter year: '))\n",
    "mm = int(input('Enter month: '))\n",
    "\n",
    "print(calendar.month(yy,mm))"
   ]
  },
  {
   "cell_type": "code",
   "execution_count": 27,
   "id": "9f33fa74",
   "metadata": {},
   "outputs": [
    {
     "name": "stdout",
     "output_type": "stream",
     "text": [
      "Enter a number: 0\n",
      "Number is zero\n"
     ]
    }
   ],
   "source": [
    "#Python Program to Check if a Number is Positive, Negative or Zero\n",
    "\n",
    "n = int(input(\"Enter a number: \"))\n",
    "\n",
    "if(n>0):\n",
    "    print('Number is positive')\n",
    "elif(n<0):\n",
    "    print('Number is negative')\n",
    "else:\n",
    "    print('Number is zero')\n"
   ]
  },
  {
   "cell_type": "code",
   "execution_count": 31,
   "id": "3e5ad495",
   "metadata": {},
   "outputs": [
    {
     "name": "stdout",
     "output_type": "stream",
     "text": [
      "Enter a number: 5\n",
      "5 is odd\n"
     ]
    }
   ],
   "source": [
    "#Python Program to Check if a Number is Odd or Even\n",
    "\n",
    "n = int(input('Enter a number: '))\n",
    "if((n%2)==0):\n",
    "    print('{0} is even'.format(n))\n",
    "else:\n",
    "    print('{0} is odd'.format(n))"
   ]
  },
  {
   "cell_type": "code",
   "execution_count": 6,
   "id": "76c19ec2",
   "metadata": {},
   "outputs": [
    {
     "name": "stdout",
     "output_type": "stream",
     "text": [
      "Enter year2016\n",
      "2016 is a leap year\n"
     ]
    }
   ],
   "source": [
    "#Python Program to Check Leap Year\n",
    "\n",
    "year = int(input('Enter year: '))\n",
    "\n",
    "if(((year % 400) == 0) or ((year % 100) != 0) and ((year % 4) == 0)):\n",
    "   print('{0} is a leap year'.format(year))\n",
    "else: \n",
    "   print('{0} is not a leap year'.format(year))"
   ]
  },
  {
   "cell_type": "code",
   "execution_count": 19,
   "id": "eae198b8",
   "metadata": {},
   "outputs": [
    {
     "name": "stdout",
     "output_type": "stream",
     "text": [
      "Enter a number: 17\n",
      "17 is a prime number\n"
     ]
    }
   ],
   "source": [
    "#Python Program to Check Prime Number\n",
    "\n",
    "a = int(input('Enter a number: '))\n",
    "\n",
    "if(a>1):\n",
    "    for i in range(2, int(a/2)+1):\n",
    "        if(a % i == 0):\n",
    "            print('{0} is not a prime number'.format(a))\n",
    "            break\n",
    "        else:\n",
    "            print('{0} is a prime number'.format(a))\n",
    "            break\n",
    "            \n",
    "else:\n",
    "    print('{0} is not a prime number'.format(a))\n",
    "    "
   ]
  },
  {
   "cell_type": "code",
   "execution_count": 8,
   "id": "f95ce795",
   "metadata": {},
   "outputs": [
    {
     "name": "stdout",
     "output_type": "stream",
     "text": [
      "Enter lower range: 3\n",
      "Enter upper range: 13\n",
      "3\n",
      "5\n",
      "7\n",
      "9\n",
      "11\n",
      "13\n"
     ]
    }
   ],
   "source": [
    "#Python Program to Print all Prime Numbers in an Interval\n",
    "\n",
    "lower = int(input('Enter lower range: '))\n",
    "upper = int(input('Enter upper range: '))\n",
    "\n",
    "for num in range(lower,(upper)+1):\n",
    "    if(num>1):\n",
    "        for i in range(2,(num)+1):\n",
    "            if(num % i == 0):\n",
    "                break\n",
    "            else:\n",
    "                print(num)\n",
    "                break\n"
   ]
  },
  {
   "cell_type": "code",
   "execution_count": 12,
   "id": "f97fcc77",
   "metadata": {},
   "outputs": [
    {
     "name": "stdout",
     "output_type": "stream",
     "text": [
      "Enter a number7\n",
      "Factorial of 7 is: \n"
     ]
    },
    {
     "data": {
      "text/plain": [
       "5040"
      ]
     },
     "execution_count": 12,
     "metadata": {},
     "output_type": "execute_result"
    }
   ],
   "source": [
    "# Python Program to Find the Factorial of a Number\n",
    "\n",
    "def fact(n):\n",
    "    return 1 if(n==0 or n==1) else n*fact(n-1)\n",
    "\n",
    "\n",
    "num = int(input('Enter a number'))\n",
    "\n",
    "print('Factorial of {0} is: '.format(num))\n",
    "\n",
    "fact(num)"
   ]
  },
  {
   "cell_type": "code",
   "execution_count": 3,
   "id": "56ca8399",
   "metadata": {},
   "outputs": [
    {
     "name": "stdout",
     "output_type": "stream",
     "text": [
      "Enter a number: 4\n",
      "4 X 1 = 4\n",
      "4 X 2 = 8\n",
      "4 X 3 = 12\n",
      "4 X 4 = 16\n",
      "4 X 5 = 20\n",
      "4 X 6 = 24\n",
      "4 X 7 = 28\n",
      "4 X 8 = 32\n",
      "4 X 9 = 36\n",
      "4 X 10 = 40\n"
     ]
    }
   ],
   "source": [
    "#Python Program to Display the multiplication Table\n",
    "\n",
    "n = int(input('Enter a number: '))\n",
    "\n",
    "for i in range(1,11):\n",
    "    x=n*i\n",
    "    print('{0} X {1} = {2}'.format(n,i,x))\n",
    "    \n"
   ]
  },
  {
   "cell_type": "code",
   "execution_count": 5,
   "id": "7f218c2c",
   "metadata": {},
   "outputs": [
    {
     "name": "stdout",
     "output_type": "stream",
     "text": [
      "Enter number of terms: 10\n",
      "The fibonacci sequence of the numbers upto 10 is: \n",
      "0\n",
      "1\n",
      "1\n",
      "2\n",
      "3\n",
      "5\n",
      "8\n",
      "13\n",
      "21\n",
      "34\n"
     ]
    }
   ],
   "source": [
    "#Python Program to Print the Fibonacci sequence\n",
    "\n",
    "n = int(input('Enter number of terms: '))\n",
    "\n",
    "n_1 = 0\n",
    "n_2 = 1\n",
    "count = 0\n",
    "\n",
    "if(n <= 0):\n",
    "    print('Enter positive integer')\n",
    "elif(n==1):\n",
    "    print('The fibonacci sequence of the numbers upto {0} is: '.format(n))\n",
    "    print(n_1)\n",
    "else:\n",
    "    print('The fibonacci sequence of the numbers upto {0} is: '.format(n))\n",
    "    while count<n:\n",
    "        print(n_1)\n",
    "        x=n_1+n_2\n",
    "        n_1=n_2\n",
    "        n_2=x\n",
    "        count+=1\n",
    "    \n",
    "    \n"
   ]
  },
  {
   "cell_type": "code",
   "execution_count": 8,
   "id": "0f2531be",
   "metadata": {},
   "outputs": [
    {
     "name": "stdout",
     "output_type": "stream",
     "text": [
      "Please enter the number to be checked: 1634\n",
      "True\n"
     ]
    }
   ],
   "source": [
    "#Python Program to Check Armstrong Number\n",
    "\n",
    "\n",
    "def power_1(A, B):  \n",
    "        \n",
    "    if B == 0:  \n",
    "        return 1  \n",
    "    if B % 2 == 0:  \n",
    "        return power_1(A, B // 2) * power_1(A, B // 2)  \n",
    "            \n",
    "    return A * power_1(A, B // 2) * power_1(A, B // 2)  \n",
    "    \n",
    "\n",
    "def order_1(A):  \n",
    "    \n",
    "\n",
    "    N = 0  \n",
    "    while (A != 0):  \n",
    "        N = N + 1  \n",
    "        A = A // 10  \n",
    "            \n",
    "    return N  \n",
    "    \n",
    "\n",
    "def is_Armstrong(A):  \n",
    "        \n",
    "    N = order_1(A)  \n",
    "    temp_1 = A  \n",
    "    sum_1 = 0  \n",
    "        \n",
    "    while (temp_1 != 0):  \n",
    "        R_1 = temp_1 % 10  \n",
    "        sum_1 = sum_1 + power_1(R_1, N)  \n",
    "        temp_1 = temp_1 // 10  \n",
    "    \n",
    "  \n",
    "    return (sum_1 == A)  \n",
    "    \n",
    "  \n",
    "A = int(input(\"Please enter the number to be checked: \"))  \n",
    "print(is_Armstrong(A))  "
   ]
  },
  {
   "cell_type": "code",
   "execution_count": 9,
   "id": "9fc89560",
   "metadata": {},
   "outputs": [
    {
     "name": "stdout",
     "output_type": "stream",
     "text": [
      "Enter lower range: 100\n",
      "Enter upper range: 500\n",
      "125\n",
      "153\n",
      "216\n",
      "370\n",
      "371\n",
      "407\n"
     ]
    }
   ],
   "source": [
    "#Python Program to Find Armstrong Number in an Interval\n",
    "\n",
    "lower = int(input(\"Enter lower range: \"))  \n",
    "upper = int(input(\"Enter upper range: \"))  \n",
    "  \n",
    "for num in range(lower,upper + 1):  \n",
    "   sum = 0  \n",
    "   temp = num  \n",
    "   while temp > 0:  \n",
    "       digit = temp % 10  \n",
    "       sum += digit ** 3  \n",
    "       temp //= 10  \n",
    "       if num == sum:  \n",
    "            print(num)  "
   ]
  },
  {
   "cell_type": "code",
   "execution_count": 20,
   "id": "512548f7",
   "metadata": {},
   "outputs": [
    {
     "name": "stdout",
     "output_type": "stream",
     "text": [
      "Enter the number: 100\n",
      "sum of natural numbers upto 100 is 5050\n"
     ]
    }
   ],
   "source": [
    "#Python Program to Find the Sum of Natural Numbers\n",
    "\n",
    "n=int(input('Enter the number: '))\n",
    "s=0\n",
    "count=0\n",
    "while(count<=n):\n",
    "    s=s+count\n",
    "    count+=1\n",
    "    \n",
    "print('sum of natural numbers upto {0} is {1}'.format(n,s))    \n",
    "    "
   ]
  },
  {
   "cell_type": "code",
   "execution_count": 25,
   "id": "397b9cd7",
   "metadata": {},
   "outputs": [
    {
     "name": "stdout",
     "output_type": "stream",
     "text": [
      "Enter first number: 3\n",
      "Enter second number: 12\n",
      "LCM of 3 and 12 is: 12\n"
     ]
    }
   ],
   "source": [
    "#Python Program to Find LCM\n",
    "\n",
    "def calculate_lcm(x,y):\n",
    "    if(x>y):\n",
    "        greater =x\n",
    "    else:\n",
    "        greater=y\n",
    "    while(True):\n",
    "        if((greater%x == 0 ) and (greater%y == 0)):\n",
    "            lcm=greater\n",
    "            break\n",
    "        greater+=1\n",
    "    return lcm\n",
    "\n",
    "\n",
    "num1 = int(input('Enter first number: '))\n",
    "num2 = int(input('Enter second number: '))\n",
    "\n",
    "print('LCM of {0} and {1} is: {2}'.format(num1,num2,calculate_lcm(num1,num2)))\n"
   ]
  },
  {
   "cell_type": "code",
   "execution_count": 27,
   "id": "2e4e92d6",
   "metadata": {},
   "outputs": [
    {
     "name": "stdout",
     "output_type": "stream",
     "text": [
      "Enter first number: 8\n",
      "Enter second number: 12\n",
      "HCF of 8 and 12 is: 4\n"
     ]
    }
   ],
   "source": [
    "#Python Program to Find HCF\n",
    "\n",
    "def calculate_hcf(x,y):\n",
    "\n",
    "    if(x>y):\n",
    "        smaller=y\n",
    "    else:\n",
    "        smaller=x\n",
    "    for i in range(1,smaller+1):\n",
    "        if((x%i == 0)and(y%i == 0)):\n",
    "            hcf=i\n",
    "    return hcf        \n",
    "    \n",
    "    \n",
    "\n",
    "num1 = int(input('Enter first number: ')) \n",
    "num2 = int(input('Enter second number: '))\n",
    "\n",
    "print('HCF of {0} and {1} is: {2}'.format(num1,num2,calculate_hcf(num1,num2)))\n",
    "    \n",
    " \n"
   ]
  },
  {
   "cell_type": "code",
   "execution_count": 1,
   "id": "7e8fa0c3",
   "metadata": {},
   "outputs": [
    {
     "name": "stdout",
     "output_type": "stream",
     "text": [
      " Enter the Decimal Number: 10\n",
      "The given decimal number 10 in Binary number is:  0b1010\n",
      "The given decimal number 10 in Octal number is:  0o12\n",
      "The given decimal number 10  in Hexadecimal number is:  0xa\n"
     ]
    }
   ],
   "source": [
    "#Python Program to Convert Decimal to Binary, Octal and Hexadecimal\n",
    "\n",
    "def decimal_into_binary(decimal_1):  \n",
    "    decimal = int(decimal_1)  \n",
    "    \n",
    "   \n",
    "    print (\"The given decimal number\", decimal, \"in Binary number is: \", bin(decimal))  \n",
    "\n",
    "def decimal_into_octal(decimal_1):  \n",
    "    decimal = int(decimal_1)  \n",
    "    \n",
    "    \n",
    "    print (\"The given decimal number\", decimal, \"in Octal number is: \", oct(decimal))  \n",
    "\n",
    "def decimal_into_hexadecimal(decimal_1):  \n",
    "    decimal = int(decimal_1)  \n",
    "    \n",
    "    \n",
    "    print (\"The given decimal number\", decimal, \" in Hexadecimal number is: \", hex(decimal))  \n",
    "    \n",
    " \n",
    "decimal_1 = int (input (\" Enter the Decimal Number: \"))  \n",
    "decimal_into_binary(decimal_1)  \n",
    "decimal_into_octal(decimal_1)  \n",
    "decimal_into_hexadecimal(decimal_1)  "
   ]
  },
  {
   "cell_type": "code",
   "execution_count": 1,
   "id": "a9f59bc4",
   "metadata": {},
   "outputs": [
    {
     "name": "stdout",
     "output_type": "stream",
     "text": [
      "Please enter a character: $\n",
      "The ASCII value of '$' is  36\n"
     ]
    }
   ],
   "source": [
    "#Python Program To Find ASCII value of a character\n",
    "\n",
    "K = input(\"Please enter a character: \")    \n",
    "    \n",
    "print (\"The ASCII value of '\" + K + \"' is \", ord(K))  \n"
   ]
  },
  {
   "cell_type": "code",
   "execution_count": 7,
   "id": "7bf31c77",
   "metadata": {},
   "outputs": [
    {
     "name": "stdout",
     "output_type": "stream",
     "text": [
      "select an action to be performed: \n",
      "a. add\n",
      "b. subtract\n",
      "c. multiplication\n",
      "d. division\n",
      "please enter your choice: d\n",
      "Enter a number: 25\n",
      "Enter another number: 5\n",
      "25 / 5 = 5.0\n"
     ]
    }
   ],
   "source": [
    "#Python Program to Make a Simple Calculator\n",
    "\n",
    "def add(p,q):\n",
    "    return p+q\n",
    "def sub(p,q):\n",
    "    return p-q\n",
    "def multi(p,q):\n",
    "    return p*q\n",
    "def div(p,q):\n",
    "    return p/q\n",
    "\n",
    "\n",
    "\n",
    "print('select an action to be performed: ')\n",
    "print('a. add')\n",
    "print('b. subtract')\n",
    "print('c. multiplication')\n",
    "print('d. division')\n",
    "\n",
    "choice = input('please enter your choice: ')\n",
    "\n",
    "num1 = int(input('Enter a number: '))\n",
    "num2 = int(input('Enter another number: '))\n",
    "\n",
    "if(choice == 'a'):\n",
    "    print(num1,'+',num2,'=',add(num1,num2))\n",
    "elif(choice == 'b'):\n",
    "    print(num1,'-',num2,'=',sub(num1,num2))\n",
    "elif(choice == 'c'):\n",
    "    print(num1,'*',num2,'=',multi(num1,num2))\n",
    "elif(choice == 'd'):\n",
    "    print(num1,'/',num2,'=',div(num1,num2))\n",
    "else:\n",
    "    print('invalid option')\n",
    "    "
   ]
  },
  {
   "cell_type": "code",
   "execution_count": 9,
   "id": "f602b58a",
   "metadata": {},
   "outputs": [
    {
     "name": "stdout",
     "output_type": "stream",
     "text": [
      "Enter year: 1998\n",
      "Enter month: 05\n",
      "      May 1998\n",
      "Mo Tu We Th Fr Sa Su\n",
      "             1  2  3\n",
      " 4  5  6  7  8  9 10\n",
      "11 12 13 14 15 16 17\n",
      "18 19 20 21 22 23 24\n",
      "25 26 27 28 29 30 31\n",
      "\n"
     ]
    }
   ],
   "source": [
    "#python program to display calendar\n",
    "\n",
    "import calendar\n",
    "\n",
    "yy = int(input('Enter year: '))\n",
    "mm = int(input('Enter month: '))\n",
    "\n",
    "print(calendar.month(yy,mm))"
   ]
  },
  {
   "cell_type": "code",
   "execution_count": 9,
   "id": "2eac7795",
   "metadata": {},
   "outputs": [
    {
     "name": "stdout",
     "output_type": "stream",
     "text": [
      "Enter number of terms to be printed: 3\n",
      "Fibonacci sequence :\n",
      "0\n",
      "1\n",
      "1\n",
      "2\n"
     ]
    }
   ],
   "source": [
    "#Python Program to Display Fibonacci Sequence Using Recursion\n",
    "\n",
    "def fib(n):\n",
    "\n",
    "    if(n<=1):\n",
    "        return n\n",
    "    else:\n",
    "        return(fib(n-1)+fib(n-2))\n",
    "\n",
    "\n",
    "nterms = int(input('Enter number of terms to be printed: '))\n",
    "\n",
    "if(nterms<=0):\n",
    "    print('Please Enter a positive integer')\n",
    "else:\n",
    "    print('Fibonacci sequence :')\n",
    "    for i in range(nterms+1):\n",
    "        print(fib(i))\n",
    "    \n",
    "    \n"
   ]
  },
  {
   "cell_type": "code",
   "execution_count": 2,
   "id": "dfc1ad2d",
   "metadata": {},
   "outputs": [
    {
     "name": "stdout",
     "output_type": "stream",
     "text": [
      "Enter a number to find factorial: 5\n",
      "factorial of  5 is:  120\n"
     ]
    }
   ],
   "source": [
    "#Python Program to Find Factorial of Number Using Recursion\n",
    "\n",
    "def fact(f):\n",
    "    if (f==1):\n",
    "        return f\n",
    "    else: \n",
    "        return f*fact(f-1)\n",
    "    \n",
    "\n",
    "n = int(input('Enter a number to find factorial: '))\n",
    "if(n<0):\n",
    "    print('factorial exists only for positive numbers')\n",
    "else:    \n",
    "    print('factorial of ',n,'is: ',fact(n))\n"
   ]
  },
  {
   "cell_type": "code",
   "execution_count": 4,
   "id": "f672d78f",
   "metadata": {},
   "outputs": [
    {
     "name": "stdout",
     "output_type": "stream",
     "text": [
      "Enter a number to check if its a disarium number or not: 175\n",
      "175 is a disarium number\n"
     ]
    }
   ],
   "source": [
    "#python program to check if the given number is a Disarium number\n",
    "\n",
    "def calculate_len(n):\n",
    "    length=0\n",
    "    while(n!=0):\n",
    "        length=length+1\n",
    "        n=n//10\n",
    "    return length\n",
    "\n",
    "num=int(input('Enter a number to check if its a disarium number or not: '))\n",
    "rem=0\n",
    "s=0\n",
    "n=num\n",
    "len=calculate_len(num)\n",
    "\n",
    "while(n>0):\n",
    "    rem=n%10\n",
    "    s=s+int(rem**len)\n",
    "    n=n//10\n",
    "    len=len-1\n",
    "if(s==num):\n",
    "    print('{0} is a disarium number'.format(num))\n",
    "else:\n",
    "    print('{0} is not a disarium number'.format(num))\n",
    "    "
   ]
  },
  {
   "cell_type": "code",
   "execution_count": 6,
   "id": "bab961df",
   "metadata": {},
   "outputs": [
    {
     "name": "stdout",
     "output_type": "stream",
     "text": [
      "1\n",
      "2\n",
      "3\n",
      "4\n",
      "5\n",
      "6\n",
      "7\n",
      "8\n",
      "9\n",
      "89\n"
     ]
    }
   ],
   "source": [
    "#Python program to print all disarium numbers between 1 to 100\n",
    "\n",
    "def calculate_len(n):\n",
    "    length=0\n",
    "    while(n!=0):\n",
    "        length=length+1\n",
    "        n=n//10\n",
    "    return length    \n",
    "\n",
    "for i in range(1,101):\n",
    "    rem=0\n",
    "    s=0\n",
    "    n=i\n",
    "    len=calculate_len(i)\n",
    "    \n",
    "    while(n>0):\n",
    "        rem=n%10\n",
    "        s=s+int(rem**len)\n",
    "        n=n//10\n",
    "        len=len-1\n",
    "    if(s==i):\n",
    "        print(i)\n",
    "        "
   ]
  },
  {
   "cell_type": "code",
   "execution_count": 1,
   "id": "a96191ef",
   "metadata": {},
   "outputs": [
    {
     "name": "stdout",
     "output_type": "stream",
     "text": [
      "Enter a number too check if a number is a happy number or not: 82\n",
      "82 is a happy number\n"
     ]
    }
   ],
   "source": [
    "# Python program to check if the given number is Happy Number\n",
    "\n",
    "def happynumber(num):\n",
    "    r=0\n",
    "    s=0\n",
    "    while(num>0):\n",
    "        r=num%10\n",
    "        s=s+(r*r)\n",
    "        num=num//10\n",
    "    return s    \n",
    "\n",
    "\n",
    "\n",
    "num=int(input('Enter a number too check if a number is a happy number or not: '))\n",
    "\n",
    "result=num\n",
    "\n",
    "while(result!=1 and result!=4):\n",
    "    result=happynumber(result);\n",
    "    \n",
    "if(result==1):\n",
    "    print('{0} is a happy number'.format(num))\n",
    "elif(result==4):\n",
    "    print('{0} is not  a happy number'.format(num))"
   ]
  },
  {
   "cell_type": "code",
   "execution_count": 4,
   "id": "57cb8e79",
   "metadata": {},
   "outputs": [
    {
     "name": "stdout",
     "output_type": "stream",
     "text": [
      "1\n",
      "7\n",
      "10\n",
      "13\n",
      "19\n",
      "23\n",
      "28\n",
      "31\n",
      "32\n",
      "44\n",
      "49\n",
      "68\n",
      "70\n",
      "79\n",
      "82\n",
      "86\n",
      "91\n",
      "94\n",
      "97\n",
      "100\n"
     ]
    }
   ],
   "source": [
    "#Python program to print all happy numbers between 1 and 100\n",
    "\n",
    "\n",
    "def happynumber(num):\n",
    "    r=0\n",
    "    s=0\n",
    "    while(num>0):\n",
    "        r=num%10\n",
    "        s=s+(r*r)\n",
    "        num=num//10\n",
    "    return s  \n",
    "\n",
    "for i in range(1,101):\n",
    "    result = i\n",
    "    while(result!=1 and result!=4):\n",
    "        result=happynumber(result);\n",
    "    \n",
    "    if(result==1):\n",
    "        print(i)\n",
    "   "
   ]
  },
  {
   "cell_type": "code",
   "execution_count": 1,
   "id": "c247cfdd",
   "metadata": {},
   "outputs": [
    {
     "name": "stdout",
     "output_type": "stream",
     "text": [
      "Enter a number to check if it is a Harshad Number: 156\n",
      "156 is a harshad number\n"
     ]
    }
   ],
   "source": [
    "#Python program to determine whether the given number is a Harshad Number\n",
    "\n",
    "num = int(input('Enter a number to check if it is a Harshad Number: '));    \n",
    "rem = sum = 0;    \n",
    "     \n",
    "n = num;    \n",
    "     \n",
    "while(num > 0):    \n",
    "    rem = num%10;    \n",
    "    sum = sum + rem;    \n",
    "    num = num//10;    \n",
    "     \n",
    "if(n%sum == 0):    \n",
    "    print(str(n) + \" is a harshad number\");    \n",
    "else:    \n",
    "    print(str(n) + \" is not a harshad number\");    "
   ]
  },
  {
   "cell_type": "code",
   "execution_count": 2,
   "id": "7e63bee4",
   "metadata": {},
   "outputs": [
    {
     "name": "stdout",
     "output_type": "stream",
     "text": [
      "Pronic numbers between 1 and 100: \n",
      "2\n",
      " \n",
      "6\n",
      " \n",
      "12\n",
      " \n",
      "20\n",
      " \n",
      "30\n",
      " \n",
      "42\n",
      " \n",
      "56\n",
      " \n",
      "72\n",
      " \n",
      "90\n",
      " \n"
     ]
    }
   ],
   "source": [
    "#Python program to print all pronic numbers between 1 and 100\n",
    "\n",
    "def isPronicNumber(num):    \n",
    "    flag = False;    \n",
    "        \n",
    "    for j in range(1, num+1):    \n",
    "        if((j*(j+1)) == num):    \n",
    "            flag = True;    \n",
    "            break;    \n",
    "    return flag;    \n",
    "     \n",
    "print(\"Pronic numbers between 1 and 100: \");    \n",
    "for i in range(1, 101):    \n",
    "    if(isPronicNumber(i)):    \n",
    "        print(i),    \n",
    "        print(\" \"),  "
   ]
  },
  {
   "cell_type": "code",
   "execution_count": 4,
   "id": "0d17cd41",
   "metadata": {},
   "outputs": [
    {
     "name": "stdout",
     "output_type": "stream",
     "text": [
      "Elements in array one: \n",
      "1\n",
      "2\n",
      "3\n",
      "4\n",
      "5\n",
      "Elements in array two: \n",
      "1\n",
      "2\n",
      "3\n",
      "4\n",
      "5\n"
     ]
    }
   ],
   "source": [
    "#Python program to copy all elements of one array into another array\n",
    "\n",
    "arr1=[1,2,3,4,5];\n",
    "\n",
    "arr2=[None]*len(arr1);\n",
    "\n",
    "for i in range (0,len(arr1)):\n",
    "    arr2[i]=arr1[i];\n",
    "\n",
    "print('Elements in array one: ')\n",
    "for i in range (0,len(arr1)):\n",
    "    print(arr1[i]);\n",
    "    \n",
    "\n",
    "\n",
    "print('Elements in array two: ')\n",
    "for i in range (0,len(arr1)):\n",
    "    print(arr2[i]);\n",
    "    \n"
   ]
  },
  {
   "cell_type": "code",
   "execution_count": 6,
   "id": "39f52388",
   "metadata": {},
   "outputs": [
    {
     "name": "stdout",
     "output_type": "stream",
     "text": [
      "Individual Element frquency in array: \n",
      "1 --> 2\n",
      "2 --> 3\n",
      "5 --> 2\n",
      "8 --> 1\n"
     ]
    }
   ],
   "source": [
    "#Python program to find the frequency of each element in the array\n",
    "\n",
    "arr=[1,2,5,2,2,5,1,8]\n",
    "arr1=[None]*len(arr)\n",
    "visited=-1\n",
    "\n",
    "for i in range (0,len(arr)):\n",
    "    count=1\n",
    "    \n",
    "    for j in range(i+1,len(arr)):\n",
    "    \n",
    "        if(arr[i]==arr[j]):\n",
    "            \n",
    "            count=count+1\n",
    "           \n",
    "            arr1[j]=visited\n",
    "    \n",
    "    if(arr1[i]!=visited):\n",
    "        \n",
    "        arr1[i]=count\n",
    "\n",
    "print('Individual Element frquency in array: ')\n",
    "\n",
    "for i in range (0,len(arr)):\n",
    "    if(arr1[i]!=visited):\n",
    "        print('{0} --> {1}'.format(arr[i],arr1[i]))\n",
    "    \n",
    "\n",
    "\n"
   ]
  },
  {
   "cell_type": "code",
   "execution_count": 1,
   "id": "ef8e0f92",
   "metadata": {},
   "outputs": [
    {
     "name": "stdout",
     "output_type": "stream",
     "text": [
      "Enter number of left shifts: 3\n",
      "original array: \n",
      "1\n",
      "2\n",
      "3\n",
      "4\n",
      "5\n",
      "Array after left rotation: \n",
      "4\n",
      "5\n",
      "1\n",
      "2\n",
      "3\n"
     ]
    }
   ],
   "source": [
    "#Python program to left rotate the elements of an array\n",
    "\n",
    "arr=[1,2,3,4,5]\n",
    "n=int(input('Enter number of left shifts: '))\n",
    "\n",
    "print('original array: ')\n",
    "for i in range(0,len(arr)):\n",
    "    print(arr[i])\n",
    "\n",
    "\n",
    "for i in range(0,n):\n",
    "    first=arr[0]\n",
    "    \n",
    "    for j in range(0,len(arr)-1):\n",
    "        arr[j]=arr[j+1]\n",
    "        \n",
    "    arr[len(arr)-1]=first\n",
    "\n",
    "    \n",
    "print('Array after left rotation: ')\n",
    "for i in range (0,len(arr)):\n",
    "    print(arr[i])\n",
    "    \n"
   ]
  },
  {
   "cell_type": "code",
   "execution_count": 2,
   "id": "d7a5eca5",
   "metadata": {},
   "outputs": [
    {
     "name": "stdout",
     "output_type": "stream",
     "text": [
      "Elements in array: \n",
      "1\n",
      "1\n",
      "2\n",
      "3\n",
      "4\n",
      "3\n",
      "5\n",
      "6\n",
      "7\n",
      "4\n",
      "Duplicate values in array are: \n",
      "1\n",
      "3\n",
      "4\n"
     ]
    }
   ],
   "source": [
    "#Python program to print the duplicate elements of an array\n",
    "\n",
    "arr=[1,1,2,3,4,3,5,6,7,4]\n",
    "\n",
    "print('Elements in array: ')\n",
    "for i in range(0,len(arr)):\n",
    "    print(arr[i])\n",
    "\n",
    "\n",
    "print('Duplicate values in array are: ')    \n",
    "for i in range(0,len(arr)):\n",
    "    for j in range(i+1,len(arr)):\n",
    "        if(arr[i]==arr[j]):\n",
    "            print(arr[i])\n",
    "        "
   ]
  },
  {
   "cell_type": "code",
   "execution_count": 3,
   "id": "254aa12d",
   "metadata": {},
   "outputs": [
    {
     "name": "stdout",
     "output_type": "stream",
     "text": [
      "Elements in an array are: \n",
      "1\n",
      "2\n",
      "3\n",
      "4\n",
      "5\n",
      "6\n",
      "7\n"
     ]
    }
   ],
   "source": [
    "#Python program to print the elements of an array\n",
    "\n",
    "arr=[1,2,3,4,5,6,7]\n",
    "print('Elements in an array are: ')\n",
    "for i in range (0,len(arr)):\n",
    "    print(arr[i])"
   ]
  },
  {
   "cell_type": "code",
   "execution_count": 5,
   "id": "f3ae325e",
   "metadata": {},
   "outputs": [
    {
     "name": "stdout",
     "output_type": "stream",
     "text": [
      "Elements in array are: \n",
      "1\n",
      "2\n",
      "3\n",
      "4\n",
      "Elements in reverse order: \n",
      "4\n",
      "3\n",
      "2\n",
      "1\n"
     ]
    }
   ],
   "source": [
    "#Python program to print the elements of an array in reverse order\n",
    "\n",
    "arr=[1,2,3,4]\n",
    "print('Elements in array are: ')\n",
    "for i in range (0,len(arr)):\n",
    "    print(arr[i])\n",
    "    \n",
    "print('Elements in reverse order: ')\n",
    "for i in range (len(arr)-1,-1,-1):\n",
    "    print (arr[i])\n",
    "    "
   ]
  },
  {
   "cell_type": "code",
   "execution_count": 6,
   "id": "b0582f3b",
   "metadata": {},
   "outputs": [
    {
     "name": "stdout",
     "output_type": "stream",
     "text": [
      "Elements in array are: \n",
      "1\n",
      "2\n",
      "3\n",
      "4\n",
      "5\n",
      "6\n",
      "Elements of array on even position: \n",
      "2\n",
      "4\n",
      "6\n"
     ]
    }
   ],
   "source": [
    "#Python program to print the elements of an array present on even position\n",
    "\n",
    "arr=[1,2,3,4,5,6]\n",
    "print('Elements in array are: ')\n",
    "for i in range(0,len(arr)):\n",
    "    print(arr[i])\n",
    "\n",
    "print('Elements of array on even position: ')\n",
    "for i in range(0,len(arr)):\n",
    "    if(((i+1)%2)==0):\n",
    "        print(arr[i])"
   ]
  },
  {
   "cell_type": "code",
   "execution_count": 7,
   "id": "a555bdf1",
   "metadata": {},
   "outputs": [
    {
     "name": "stdout",
     "output_type": "stream",
     "text": [
      "Elements in array are: \n",
      "1\n",
      "2\n",
      "3\n",
      "4\n",
      "5\n",
      "6\n",
      "Elements of array on odd position:\n",
      "1\n",
      "3\n",
      "5\n"
     ]
    }
   ],
   "source": [
    "#Python program to print the elements of an array present on odd position\n",
    "\n",
    "arr=[1,2,3,4,5,6]\n",
    "\n",
    "print('Elements in array are: ')\n",
    "\n",
    "for i in range (0,len(arr)):\n",
    "    print(arr[i])\n",
    "\n",
    "print('Elements of array on odd position:')\n",
    "\n",
    "for i in range (0,len(arr)):\n",
    "    if(((i+1)%2)!=0):\n",
    "        print(arr[i])"
   ]
  },
  {
   "cell_type": "code",
   "execution_count": 9,
   "id": "1d19afbf",
   "metadata": {},
   "outputs": [
    {
     "name": "stdout",
     "output_type": "stream",
     "text": [
      "Elements in array are: \n",
      "1\n",
      "2\n",
      "3\n",
      "4\n",
      "5\n",
      "6\n",
      "Largest element in array is: 6\n"
     ]
    }
   ],
   "source": [
    "#Python program to print the largest element in an array\n",
    "\n",
    "arr=[1,2,3,4,5,6]\n",
    "\n",
    "print('Elements in array are: ')\n",
    "\n",
    "for i in range (0,len(arr)):\n",
    "    print(arr[i])\n",
    "\n",
    "largest=0    \n",
    "\n",
    "for i in range (0,len(arr)):\n",
    "    if(arr[i]>largest):\n",
    "        largest=arr[i]\n",
    "\n",
    "print('Largest element in array is: {0}'.format(largest))    "
   ]
  },
  {
   "cell_type": "code",
   "execution_count": 11,
   "id": "98f3867e",
   "metadata": {},
   "outputs": [
    {
     "name": "stdout",
     "output_type": "stream",
     "text": [
      "Elements in array are: \n",
      "3\n",
      "2\n",
      "1\n",
      "4\n",
      "5\n",
      "6\n",
      "Smallest element in array is: 1\n"
     ]
    }
   ],
   "source": [
    "#Python program to print the smallest element in an array\n",
    "\n",
    "arr=[3,2,1,4,5,6]\n",
    "\n",
    "print('Elements in array are: ')\n",
    "\n",
    "for i in range (0,len(arr)):\n",
    "    print(arr[i])\n",
    "\n",
    "smallest=arr[0]\n",
    "\n",
    "for i in range(1,len(arr)):\n",
    "    if(arr[i]<smallest):\n",
    "        smallest=arr[i]\n",
    "        \n",
    "print('Smallest element in array is: {0}'.format(smallest))\n"
   ]
  },
  {
   "cell_type": "code",
   "execution_count": 12,
   "id": "7904c8d8",
   "metadata": {},
   "outputs": [
    {
     "name": "stdout",
     "output_type": "stream",
     "text": [
      "Elements in array are: \n",
      "3\n",
      "2\n",
      "1\n",
      "4\n",
      "5\n",
      "6\n",
      "Total number of elements in array are: 6\n"
     ]
    }
   ],
   "source": [
    "#Python program to print the number of elements present in an array\n",
    "\n",
    "arr=[3,2,1,4,5,6]\n",
    "\n",
    "count=0\n",
    "\n",
    "print('Elements in array are: ')\n",
    "\n",
    "for i in range (0,len(arr)):\n",
    "    print(arr[i])\n",
    "    count=count+1\n",
    "\n",
    "print('Total number of elements in array are: {0}'.format(count))\n",
    "\n",
    "    "
   ]
  },
  {
   "cell_type": "code",
   "execution_count": 13,
   "id": "26b553b4",
   "metadata": {},
   "outputs": [
    {
     "name": "stdout",
     "output_type": "stream",
     "text": [
      "Elements in array are: \n",
      "3\n",
      "2\n",
      "1\n",
      "4\n",
      "5\n",
      "6\n",
      "Sum of all elements in array is: 21\n"
     ]
    }
   ],
   "source": [
    "#Python program to print the sum of all elements in an array\n",
    "\n",
    "arr=[3,2,1,4,5,6]\n",
    "\n",
    "s=0\n",
    "print('Elements in array are: ')\n",
    "\n",
    "for i in range (0,len(arr)):\n",
    "    print(arr[i])\n",
    "    s=s+arr[i]\n",
    "    \n",
    "print('Sum of all elements in array is: {0}'.format(s))    \n",
    "\n"
   ]
  },
  {
   "cell_type": "code",
   "execution_count": 14,
   "id": "8d7fcb87",
   "metadata": {},
   "outputs": [
    {
     "name": "stdout",
     "output_type": "stream",
     "text": [
      "Enter number of right shifts: 3\n",
      "original array: \n",
      "1\n",
      "2\n",
      "3\n",
      "4\n",
      "5\n",
      "Array after right rotation: \n",
      "3\n",
      "4\n",
      "5\n",
      "1\n",
      "2\n"
     ]
    }
   ],
   "source": [
    "#Python program to right rotate the elements of an array\n",
    "\n",
    "arr=[1,2,3,4,5]\n",
    "n=int(input('Enter number of right shifts: '))\n",
    "\n",
    "print('original array: ')\n",
    "for i in range(0,len(arr)):\n",
    "    print(arr[i])\n",
    "\n",
    "\n",
    "for i in range(0,n):\n",
    "    last = arr[len(arr)-1]\n",
    "    \n",
    "    for j in range(len(arr)-1,-1,-1):\n",
    "        arr[j]=arr[j-1]\n",
    "        \n",
    "    arr[0]=last\n",
    "\n",
    "    \n",
    "print('Array after right rotation: ')\n",
    "for i in range (0,len(arr)):\n",
    "    print(arr[i])\n"
   ]
  },
  {
   "cell_type": "code",
   "execution_count": 15,
   "id": "cee05e27",
   "metadata": {},
   "outputs": [
    {
     "name": "stdout",
     "output_type": "stream",
     "text": [
      "Elements in array are: \n",
      "3\n",
      "2\n",
      "1\n",
      "4\n",
      "5\n",
      "6\n",
      "Elements in ascending order: \n",
      "1\n",
      "2\n",
      "3\n",
      "4\n",
      "5\n",
      "6\n"
     ]
    }
   ],
   "source": [
    "#Python program to sort the elements of an array in ascending order\n",
    "\n",
    "\n",
    "arr=[3,2,1,4,5,6]\n",
    "\n",
    "print('Elements in array are: ')\n",
    "\n",
    "for i in range (0,len(arr)):\n",
    "    print(arr[i])\n",
    "    \n",
    "for i in range (0,len(arr)):\n",
    "    \n",
    "    for j in range (i+1,len(arr)):\n",
    "       \n",
    "        if(arr[i]>arr[j]):\n",
    "            \n",
    "            temp=arr[i]\n",
    "            arr[i]=arr[j]\n",
    "            arr[j]=temp\n",
    "\n",
    "print('Elements in ascending order: ')\n",
    "\n",
    "for i in range(0,len(arr)):\n",
    "    print(arr[i])"
   ]
  },
  {
   "cell_type": "code",
   "execution_count": 17,
   "id": "4a4f32fa",
   "metadata": {},
   "outputs": [
    {
     "name": "stdout",
     "output_type": "stream",
     "text": [
      "Elements in array are: \n",
      "3\n",
      "2\n",
      "1\n",
      "4\n",
      "5\n",
      "6\n",
      "Elements in descending order: \n",
      "6\n",
      "5\n",
      "4\n",
      "3\n",
      "2\n",
      "1\n"
     ]
    }
   ],
   "source": [
    "#Python program to sort the elements of an array in descending order\n",
    "\n",
    "\n",
    "arr=[3,2,1,4,5,6]\n",
    "\n",
    "print('Elements in array are: ')\n",
    "\n",
    "for i in range (0,len(arr)):\n",
    "    print(arr[i])\n",
    "    \n",
    "for i in range(0,len(arr)):\n",
    "  \n",
    "    for j in range(i+1,len(arr)):\n",
    "        \n",
    "        if(arr[i]<arr[j]):\n",
    "       \n",
    "            temp=arr[i]\n",
    "            arr[i]=arr[j]\n",
    "            arr[j]=temp\n",
    "\n",
    "print('Elements in descending order: ')\n",
    "\n",
    "for i in range (0,len(arr)):\n",
    "    print(arr[i])"
   ]
  },
  {
   "cell_type": "code",
   "execution_count": 18,
   "id": "c69ff2d3",
   "metadata": {},
   "outputs": [
    {
     "name": "stdout",
     "output_type": "stream",
     "text": [
      "[11, 13, 15]\n",
      "[17, 19, 21]\n",
      "[23, 25, 27]\n"
     ]
    }
   ],
   "source": [
    "#Python Program to Add Two Matrices\n",
    "\n",
    "x=[[1,2,3],[4,5,6],[7,8,9]]\n",
    "\n",
    "y=[[10,11,12],[13,14,15],[16,17,18]]\n",
    "\n",
    "result=[[0,0,0],[0,0,0],[0,0,0]]\n",
    "\n",
    "for i in range(len(x)):\n",
    "    for j in range (len(x[0])):\n",
    "        result[i][j]=x[i][j]+y[i][j]\n",
    "        \n",
    "        \n",
    "for r in result:\n",
    "    print(r)"
   ]
  },
  {
   "cell_type": "code",
   "execution_count": 20,
   "id": "ae2bccec",
   "metadata": {},
   "outputs": [
    {
     "name": "stdout",
     "output_type": "stream",
     "text": [
      "[84, 90, 96]\n",
      "[201, 216, 231]\n",
      "[318, 342, 366]\n"
     ]
    }
   ],
   "source": [
    "#Python Program to Multiply Two Matrices\n",
    "\n",
    "x=[[1,2,3],[4,5,6],[7,8,9]]\n",
    "\n",
    "y=[[10,11,12],[13,14,15],[16,17,18]]\n",
    "\n",
    "result=[[0,0,0],[0,0,0],[0,0,0]]\n",
    "\n",
    "\n",
    "for i in range(len(x)):\n",
    "    for j in range(len(y[0])):\n",
    "        for k in range(len(y)):\n",
    "            result[i][j]+=x[i][k]*y[k][j]\n",
    "\n",
    "for r in result:\n",
    "    print(r)"
   ]
  },
  {
   "cell_type": "code",
   "execution_count": 1,
   "id": "f194a8fa",
   "metadata": {},
   "outputs": [
    {
     "name": "stdout",
     "output_type": "stream",
     "text": [
      "Transpose of a matrix is: \n",
      "[1, 4, 7, 10]\n",
      "[2, 5, 8, 11]\n",
      "[3, 6, 9, 12]\n"
     ]
    }
   ],
   "source": [
    "#Python Program to Transpose a Matrix\n",
    "\n",
    "A = [[1,2,3],[4,5,6],[7,8,9],[10,11,12]]\n",
    "\n",
    "result=[[0,0,0,0],[0,0,0,0],[0,0,0,0]]\n",
    "\n",
    "for i in range (len(A)):\n",
    "    for j in range(len(A[0])):\n",
    "        result[j][i]=A[i][j]\n",
    "        \n",
    "print('Transpose of a matrix is: ')\n",
    "\n",
    "for r in result:\n",
    "    print(r)\n"
   ]
  },
  {
   "cell_type": "code",
   "execution_count": 2,
   "id": "455d1b3a",
   "metadata": {},
   "outputs": [
    {
     "name": "stdout",
     "output_type": "stream",
     "text": [
      "Enter a string: yo wassup wanna do something\n",
      "do\n",
      "something\n",
      "wanna\n",
      "wassup\n",
      "yo\n"
     ]
    }
   ],
   "source": [
    "#Python Program to Sort Words in Alphabetic Order\n",
    "\n",
    "mystr = input('Enter a string: ')\n",
    "\n",
    "words=mystr.split()\n",
    "\n",
    "words.sort()\n",
    "\n",
    "for word in words:\n",
    "    print(word)"
   ]
  },
  {
   "cell_type": "code",
   "execution_count": 3,
   "id": "1e2e5e4d",
   "metadata": {},
   "outputs": [
    {
     "name": "stdout",
     "output_type": "stream",
     "text": [
      "Enter a string: yo! dude. wassup, man.\n",
      "yo dude wassup man\n"
     ]
    }
   ],
   "source": [
    "#Python Program to Remove Punctuation From a String\n",
    "\n",
    "punctuation = '''''!()-[]{};:'\"\\,<>./?@#$%^&*_~'''\n",
    "\n",
    "mystr = input('Enter a string: ')\n",
    "\n",
    "newstr = \"\"\n",
    "\n",
    "for char in mystr:\n",
    "    if char not in punctuation:\n",
    "        newstr=newstr+char\n",
    "        \n",
    "print(newstr)"
   ]
  },
  {
   "cell_type": "code",
   "execution_count": 5,
   "id": "840b0f67",
   "metadata": {},
   "outputs": [
    {
     "name": "stdout",
     "output_type": "stream",
     "text": [
      "Enter a string: javawow\n",
      "The original string is:  javawow\n",
      "The reverse string is wowavaj\n"
     ]
    }
   ],
   "source": [
    "#Python Program to reverse a string\n",
    "\n",
    "def reverse_string(str):  \n",
    "    str1 = \"\"   \n",
    "    for i in str:  \n",
    "        str1 = i + str1  \n",
    "    return str1    \n",
    "     \n",
    "str = input('Enter a string: ')         \n",
    "print(\"The original string is: \",str)  \n",
    "print(\"The reverse string is\",reverse_string(str)) "
   ]
  },
  {
   "cell_type": "code",
   "execution_count": 1,
   "id": "7c1b0bd9",
   "metadata": {},
   "outputs": [
    {
     "name": "stdout",
     "output_type": "stream",
     "text": [
      "WassupManThisisalist\n"
     ]
    }
   ],
   "source": [
    "#Python Program to convert list to string\n",
    "\n",
    "\n",
    "def convert_tostring(list1):\n",
    "    str=''\n",
    "    for i in list1:\n",
    "        str+=i\n",
    "    \n",
    "    return str\n",
    "\n",
    "\n",
    "list1=[\"Wassup\",\"Man\",\"This\",\"is\",\"a\",\"list\"]\n",
    "\n",
    "print(convert_tostring(list1))\n"
   ]
  },
  {
   "cell_type": "code",
   "execution_count": 3,
   "id": "cd46ce71",
   "metadata": {},
   "outputs": [
    {
     "name": "stdout",
     "output_type": "stream",
     "text": [
      "Enter an integer: 50\n",
      "50\n",
      "<class 'str'>\n"
     ]
    }
   ],
   "source": [
    "#Python Program to convert int to string\n",
    "\n",
    "\n",
    "n=int(input('Enter an integer: '))\n",
    "\n",
    "new=str(n)\n",
    "\n",
    "print(new)\n",
    "print(type(new))"
   ]
  },
  {
   "cell_type": "code",
   "execution_count": 6,
   "id": "89766e8f",
   "metadata": {},
   "outputs": [
    {
     "name": "stdout",
     "output_type": "stream",
     "text": [
      "ok! Buddy.\n"
     ]
    }
   ],
   "source": [
    "#Python Program to concatenate two strings\n",
    "\n",
    "\n",
    "str1=\"ok!\"\n",
    "\n",
    "str2=\"Buddy.\"\n",
    "\n",
    "str3=str1+\" \"+str2\n",
    "\n",
    "print(str3)\n",
    "\n",
    "\n",
    "# or str3=\"\".join[str1,str2]"
   ]
  },
  {
   "cell_type": "code",
   "execution_count": 8,
   "id": "9c2b6a8d",
   "metadata": {},
   "outputs": [
    {
     "name": "stdout",
     "output_type": "stream",
     "text": [
      "SCOyGefhiW\n"
     ]
    }
   ],
   "source": [
    "#Python Program to generate a Random String\n",
    "\n",
    "import random\n",
    "import string\n",
    "\n",
    "def random_str(length):\n",
    "    str1=''\n",
    "    result=''.join((random.choice(string.ascii_letters)for x in range(length)))\n",
    "    print(result)\n",
    "\n",
    "\n",
    "random_str(10)\n",
    "\n"
   ]
  },
  {
   "cell_type": "code",
   "execution_count": 14,
   "id": "3fcdba7e",
   "metadata": {},
   "outputs": [
    {
     "name": "stdout",
     "output_type": "stream",
     "text": [
      "<class 'bytes'>\n",
      "b'Lets eat a \\xf0\\x9f\\x8d\\x95!'\n",
      "<class 'str'>\n",
      "Lets eat a 🍕!\n"
     ]
    }
   ],
   "source": [
    "#Python Program to convert Bytes to string\n",
    "\n",
    "bytedata=b\"Lets eat a \\xf0\\x9f\\x8d\\x95!\" \n",
    "\n",
    "print(type(bytedata))\n",
    "print(bytedata)\n",
    "\n",
    "\n",
    "str2=bytedata.decode('UTF-8')\n",
    "print(type(str2))\n",
    "print(str2)\n",
    "\n"
   ]
  },
  {
   "cell_type": "code",
   "execution_count": 18,
   "id": "d1b4ffcc",
   "metadata": {},
   "outputs": [
    {
     "name": "stdout",
     "output_type": "stream",
     "text": [
      "list before appending: \n",
      "['1', '2', '3', '4']\n",
      "Enter new list item to append with append function: 5\n",
      "List after appending: \n",
      "['1', '2', '3', '4', 5]\n",
      "Enter a index value to input: 3\n",
      "Enter a new list item to add at index value: 10\n",
      "List after adding element at the index: \n",
      "['1', '2', '3', '10', '4', 5]\n",
      "List after using extend function\n",
      "['1', '2', '3', '10', '4', 5, 8, 9]\n"
     ]
    }
   ],
   "source": [
    "#Python Program to append element in the list\n",
    "\n",
    "list1=[\"1\",\"2\",\"3\",\"4\"]\n",
    "\n",
    "print('list before appending: ')\n",
    "\n",
    "print(list1)\n",
    "\n",
    "new=int(input('Enter new list item to append with append function: '))\n",
    "\n",
    "list1.append(new)\n",
    "\n",
    "\n",
    "print('List after appending: ')\n",
    "print(list1)\n",
    "\n",
    "\n",
    "index=int(input('Enter a index value to input: '))\n",
    "new=input('Enter a new list item to add at index value: ')\n",
    "\n",
    "list1.insert(index,new)\n",
    "\n",
    "print('List after adding element at the index: ')\n",
    "print(list1)\n",
    "\n",
    "list1.extend([8,9])\n",
    "\n",
    "print('List after using extend function')\n",
    "print(list1)\n"
   ]
  },
  {
   "cell_type": "code",
   "execution_count": 21,
   "id": "93b54867",
   "metadata": {},
   "outputs": [
    {
     "name": "stdout",
     "output_type": "stream",
     "text": [
      "Result using sets: \n",
      "List items are similar\n",
      "Result using collection counter: \n",
      "List items are similar\n"
     ]
    }
   ],
   "source": [
    "#Python Program to compare two lists\n",
    "\n",
    "import collections\n",
    "\n",
    "list1=[1,2,3,4,5]\n",
    "list2=[3,2,5,4,1]\n",
    "\n",
    "a=set(list1)\n",
    "b=set(list2)\n",
    "\n",
    "print('Result using sets: ')\n",
    "if(a==b):\n",
    "    print('List items are similar')\n",
    "else:\n",
    "    print('List items are not similar')\n",
    "\n",
    "    \n",
    "print('Result using collection counter: ')\n",
    "if(collections.Counter(list1)==collections.Counter(list2)):\n",
    "    print('List items are similar')\n",
    "else:\n",
    "    print('List items are not similar')"
   ]
  },
  {
   "cell_type": "code",
   "execution_count": 23,
   "id": "e3991481",
   "metadata": {},
   "outputs": [
    {
     "name": "stdout",
     "output_type": "stream",
     "text": [
      "{'item1': 'value', 'item2': 'value', 'item3': 'value', 'item4': 'value'}\n",
      "<class 'dict'>\n"
     ]
    }
   ],
   "source": [
    "#Python Program to convert list to dictionary\n",
    "\n",
    "list1=[\"item1\",\"item2\",\"item3\",\"item4\"]\n",
    "\n",
    "dict1={x:\"value\" for x in list1 }\n",
    "\n",
    "print(dict1)\n",
    "print(type(dict1))"
   ]
  },
  {
   "cell_type": "code",
   "execution_count": 25,
   "id": "8cf3c7d5",
   "metadata": {},
   "outputs": [
    {
     "name": "stdout",
     "output_type": "stream",
     "text": [
      "List items before removing are: \n",
      "['1', '2', '3', '4', '5', '6', '7', '8', '9', '10']\n",
      "\n",
      "List after removing an element using remove function: \n",
      "['1', '2', '4', '5', '6', '7', '8', '9', '10']\n",
      "\n",
      "List after removing element using remove function: \n",
      "['1', '2', '4', '6', '7', '8', '9']\n",
      "\n",
      "List after removing element using del: \n",
      "['1', '2', '4', '6', '7', '8']\n",
      "\n",
      "List after using clear funtion: \n",
      "[]\n"
     ]
    }
   ],
   "source": [
    "#Python Program to remove an element from a list\n",
    "\n",
    "list1=['1','2','3','4','5','6','7','8','9','10']\n",
    "\n",
    "print('List items before removing are: ')\n",
    "print(list1)\n",
    "print(\"\")\n",
    "\n",
    "list1.remove('3')\n",
    "print('List after removing an element using remove function: ')\n",
    "print(list1)\n",
    "print(\"\")\n",
    "\n",
    "list1.pop(3)\n",
    "list1.pop(-1)\n",
    "print('List after removing element using remove function: ')\n",
    "print(list1)\n",
    "print(\"\")\n",
    "\n",
    "del list1[6]\n",
    "print('List after removing element using del: ')\n",
    "print(list1)\n",
    "print(\"\")\n",
    "\n",
    "list1.clear()\n",
    "print('List after using clear funtion: ')\n",
    "print(list1)"
   ]
  },
  {
   "cell_type": "code",
   "execution_count": 28,
   "id": "fbec36d6",
   "metadata": {},
   "outputs": [
    {
     "name": "stdout",
     "output_type": "stream",
     "text": [
      "Lists before adding: \n",
      "[1, 2, 3, 4, 5]\n",
      "[6, 7, 8, 9, 0]\n",
      "\n",
      "Result list after adding two lists: \n",
      "[7, 9, 11, 13, 5]\n"
     ]
    }
   ],
   "source": [
    "#Python Program to add two lists\n",
    "\n",
    "\n",
    "list1=[1,2,3,4,5]\n",
    "list2=[6,7,8,9,0]\n",
    "result=[]\n",
    "\n",
    "print('Lists before adding: ')\n",
    "print(list1)\n",
    "print(list2)\n",
    "print(\"\")\n",
    "\n",
    "for i in range(0, len(list1)):\n",
    "    result.append(list1[i]+list2[i])\n",
    "    \n",
    "\n",
    "print('Result list after adding two lists: ')    \n",
    "print(result)\n"
   ]
  },
  {
   "cell_type": "code",
   "execution_count": 32,
   "id": "3cbc3073",
   "metadata": {},
   "outputs": [
    {
     "name": "stdout",
     "output_type": "stream",
     "text": [
      "List after converting to a set: \n",
      "{'this', 'list', 'a', 'is'}\n"
     ]
    }
   ],
   "source": [
    "#Python Program to convert List to Set\n",
    "\n",
    "list1=[\"this\",\"is\",\"a\",\"list\"]\n",
    "\n",
    "a=set(list1)\n",
    "\n",
    "print('List after converting to a set: ')\n",
    "print(a)"
   ]
  },
  {
   "cell_type": "code",
   "execution_count": 33,
   "id": "5e2fda34",
   "metadata": {},
   "outputs": [
    {
     "name": "stdout",
     "output_type": "stream",
     "text": [
      "WassupManThisisalist\n"
     ]
    }
   ],
   "source": [
    "#Python Program to convert list to string\n",
    "\n",
    "def convert_tostring(list1):\n",
    "    str=''\n",
    "    for i in list1:\n",
    "        str+=i\n",
    "    \n",
    "    return str\n",
    "\n",
    "\n",
    "list1=[\"Wassup\",\"Man\",\"This\",\"is\",\"a\",\"list\"]\n",
    "\n",
    "print(convert_tostring(list1))"
   ]
  },
  {
   "cell_type": "code",
   "execution_count": 1,
   "id": "e4ccf676",
   "metadata": {},
   "outputs": [
    {
     "name": "stdout",
     "output_type": "stream",
     "text": [
      "<class 'dict'>\n",
      "{'Name': 'Rimuru', 'Age': 'infinite'}\n",
      "Creating a dictionary with dict methods: \n",
      "{'Name': 'Rimuru', 'Age': 'infinite'}\n",
      "{'Name': 'Rimuru', 'Age': 'infinite'}\n"
     ]
    }
   ],
   "source": [
    "#Python Program to create a dictionary\n",
    "\n",
    "\n",
    "info = {\"Name\":\"Rimuru\",\"Age\":\"infinite\"}\n",
    "print(type(info))\n",
    "print(info)\n",
    "\n",
    "\n",
    "print('Creating a dictionary with dict methods: ')\n",
    "info1=dict({\"Name\":\"Rimuru\",\"Age\":\"infinite\"})\n",
    "print(info1)\n",
    "\n",
    "info2=dict([('Name','Rimuru'),('Age','infinite')])\n",
    "print(info2)"
   ]
  },
  {
   "cell_type": "code",
   "execution_count": 37,
   "id": "5e3c85e9",
   "metadata": {},
   "outputs": [
    {
     "name": "stdout",
     "output_type": "stream",
     "text": [
      "{'item1': 'value', 'item2': 'value', 'item3': 'value', 'item4': 'value'}\n",
      "<class 'dict'>\n"
     ]
    }
   ],
   "source": [
    "#Python Program to convert list to dictionary\n",
    "\n",
    "list1=[\"item1\",\"item2\",\"item3\",\"item4\"]\n",
    "\n",
    "dict1={x:\"value\" for x in list1 }\n",
    "\n",
    "print(dict1)\n",
    "print(type(dict1))"
   ]
  },
  {
   "cell_type": "code",
   "execution_count": 40,
   "id": "0a49c66c",
   "metadata": {},
   "outputs": [
    {
     "name": "stdout",
     "output_type": "stream",
     "text": [
      "sorted list of keys: \n",
      "[1, 2, 3, 4]\n",
      "\n",
      "sorted list of with items: \n",
      "[(1, 'a'), (2, 'c'), (3, 'd'), (4, 'a')]\n"
     ]
    }
   ],
   "source": [
    "#Python Program to sort a dictionary\n",
    "\n",
    "\n",
    "dict1={1:'a',2:'c',4:'a',3:'d'}\n",
    "\n",
    "\n",
    "print('sorted list of keys: ')\n",
    "print(sorted(dict1.keys()))\n",
    "print(\"\")\n",
    "\n",
    "print('sorted list of with items: ')\n",
    "print(sorted(dict1.items()))"
   ]
  },
  {
   "cell_type": "code",
   "execution_count": 5,
   "id": "3d00ef10",
   "metadata": {},
   "outputs": [
    {
     "name": "stdout",
     "output_type": "stream",
     "text": [
      "Dictionary 1: \n",
      "{1: 'a', 2: 'b', 3: 'c', 4: 'd'}\n",
      "\n",
      "Dictionary 2: \n",
      "{5: 'e', 6: 'f', 7: 'g', 8: 'h'}\n",
      "\n",
      "After merging 2 dictionaries using copy function: \n",
      "{1: 'a', 2: 'b', 3: 'c', 4: 'd', 5: 'e', 6: 'f', 7: 'g', 8: 'h'}\n",
      "\n",
      "After merging 2 dictionaries using update function: \n",
      "{1: 'a', 2: 'b', 3: 'c', 4: 'd', 5: 'e', 6: 'f', 7: 'g', 8: 'h'}\n"
     ]
    }
   ],
   "source": [
    "#Python Program to Merge two Dictionaries\n",
    "\n",
    "\n",
    "d1={1:'a',2:'b',3:'c',4:'d'}\n",
    "\n",
    "d2={5:'e',6:'f',7:'g',8:'h'}\n",
    "\n",
    "print('Dictionary 1: ')\n",
    "print(d1)\n",
    "print(\"\")\n",
    "print('Dictionary 2: ')\n",
    "print(d2)\n",
    "\n",
    "d3=d1.copy()\n",
    "\n",
    "for key,value in d2.items():\n",
    "    d3[key]=value\n",
    "\n",
    "print(\"\")    \n",
    "print('After merging 2 dictionaries using copy function: ')\n",
    "print(d3)\n",
    "\n",
    "\n",
    "d1.update(d2)\n",
    "\n",
    "print(\"\")\n",
    "print('After merging 2 dictionaries using update function: ')\n",
    "print(d1)"
   ]
  },
  {
   "cell_type": "code",
   "execution_count": 1,
   "id": "3fb31e07",
   "metadata": {},
   "outputs": [
    {
     "name": "stdout",
     "output_type": "stream",
     "text": [
      "Element is present at: 4\n"
     ]
    }
   ],
   "source": [
    "#Binary Search in Python\n",
    "\n",
    "\n",
    "def binary_search(list1,n):\n",
    "    \n",
    "    low=0\n",
    "    \n",
    "    high=len(list1)-1\n",
    "    \n",
    "    mid=0\n",
    "\n",
    "    while low<=high:\n",
    "        mid=(low+high)//2\n",
    "        \n",
    "        if n>list1[mid]:\n",
    "            low=mid+1\n",
    "        \n",
    "        elif list1[mid]>n:\n",
    "            high=mid-1\n",
    "        \n",
    "        else:\n",
    "            return mid\n",
    "    \n",
    "    return -1\n",
    "    \n",
    "\n",
    "list1=[1,2,3,4,5,6,7]\n",
    "\n",
    "n=5\n",
    "\n",
    "result=binary_search(list1,n)\n",
    "\n",
    "if(result!=-1):\n",
    "    print('Element is present at: {0}'.format(result))\n",
    "    \n",
    "else:\n",
    "    print('Element is not in the list')\n",
    "    \n"
   ]
  },
  {
   "cell_type": "code",
   "execution_count": 4,
   "id": "c340b4ad",
   "metadata": {},
   "outputs": [
    {
     "name": "stdout",
     "output_type": "stream",
     "text": [
      "Element is present at index: 5\n"
     ]
    }
   ],
   "source": [
    "#Linear Search in Python\n",
    "\n",
    "\n",
    "def linear_search(list1,r,n):\n",
    "    \n",
    "    for i in range(0,r):\n",
    "        if(list1[i]==n):\n",
    "            return i\n",
    "\n",
    "    return -1\n",
    "\n",
    "\n",
    "\n",
    "list1=[1,2,3,4,5,6,7,8]\n",
    "\n",
    "r=len(list1)\n",
    "\n",
    "n=6\n",
    "\n",
    "result=linear_search(list1,r,n)\n",
    "\n",
    "if(result!=-1):\n",
    "    print('Element is present at index: {0}'.format(result))\n",
    "else:\n",
    "    print('Element is not present at the index')"
   ]
  },
  {
   "cell_type": "code",
   "execution_count": 1,
   "id": "2f6bca9f",
   "metadata": {},
   "outputs": [
    {
     "name": "stdout",
     "output_type": "stream",
     "text": [
      "List before using bubble sort: \n",
      "[4, 5, 3, 2, 7, 8]\n",
      "\n",
      "List after using bubble sort: \n",
      "[2, 3, 4, 5, 7, 8]\n"
     ]
    }
   ],
   "source": [
    "#Bubble Sort in Python\n",
    "\n",
    "\n",
    "def bubble_sort(list1):\n",
    "    \n",
    "    for i in range(0,len(list1)-1):\n",
    "        for j in range(0,len(list1)-1):\n",
    "            \n",
    "            if((list1[j])>(list1[j+1])):\n",
    "                temp=list1[j]\n",
    "                list1[j]=list1[j+1]\n",
    "                list1[j+1]=temp\n",
    "    return list1\n",
    "\n",
    "\n",
    "\n",
    "\n",
    "\n",
    "list1=[4,5,3,2,7,8]\n",
    "\n",
    "print('List before using bubble sort: ')\n",
    "print(list1)\n",
    "print(\"\")\n",
    "\n",
    "\n",
    "print(\"List after using bubble sort: \")\n",
    "print(bubble_sort(list1))"
   ]
  },
  {
   "cell_type": "code",
   "execution_count": 2,
   "id": "3de29f49",
   "metadata": {},
   "outputs": [],
   "source": [
    "#Insertion Sort in Python\n",
    "\n",
    "\n",
    "\n",
    "\n"
   ]
  },
  {
   "cell_type": "code",
   "execution_count": 3,
   "id": "e285716a",
   "metadata": {},
   "outputs": [],
   "source": [
    "#Heap sort in python\n",
    "\n",
    "\n"
   ]
  },
  {
   "cell_type": "code",
   "execution_count": null,
   "id": "ba7211a1",
   "metadata": {},
   "outputs": [],
   "source": [
    "#Merge sort in python\n",
    "\n",
    "\n"
   ]
  }
 ],
 "metadata": {
  "kernelspec": {
   "display_name": "Python 2",
   "language": "python",
   "name": "python2"
  },
  "language_info": {
   "codemirror_mode": {
    "name": "ipython",
    "version": 2
   },
   "file_extension": ".py",
   "mimetype": "text/x-python",
   "name": "python",
   "nbconvert_exporter": "python",
   "pygments_lexer": "ipython2",
   "version": "2.7.16"
  }
 },
 "nbformat": 4,
 "nbformat_minor": 5
}
